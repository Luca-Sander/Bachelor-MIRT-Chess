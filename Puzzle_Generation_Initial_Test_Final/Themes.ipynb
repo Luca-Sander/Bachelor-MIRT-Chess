{
 "cells": [
  {
   "cell_type": "code",
   "execution_count": 23,
   "metadata": {},
   "outputs": [
    {
     "name": "stdout",
     "output_type": "stream",
     "text": [
      "-------------------------------- Themen -------------------------------- \n",
      " {'Knight', 'clearance', 'Queen', 'exposedKing', 'rookEndgame', 'deflection', 'King', 'Rook', 'xRayAttack', 'queenEndgame', 'bishopEndgame', 'pin', 'skewer', 'mateIn5', 'queenRookEndgame', 'pawnEndgame', 'capturingDefender', 'mateIn3', 'endgame', 'sacrifice', 'knightEndgame', 'castling', 'middlegame', 'crushing', 'Bishop', 'queensideAttack', 'discoveredAttack', 'fork', 'mateIn2', 'interference', 'kingsideAttack', 'opening', 'advancedPawn', 'promotion', 'enPassant', 'advantage', 'Pawn', 'trappedPiece', 'doubleCheck', 'mateIn4', 'defensiveMove', 'intermezzo', 'hangingPiece', 'attraction'}\n",
      "Anzahl der Themen:  44\n",
      "----------------------------------------------------------------------\n"
     ]
    }
   ],
   "source": [
    "rows = []\n",
    "import csv\n",
    "with open('ImportantPuzzles.csv', newline='') as csvfile:\n",
    "    spamreader = csv.reader(csvfile, delimiter=';', quotechar='|')\n",
    "    for row in spamreader:\n",
    "        rows.append(row)\n",
    "\n",
    "themes = set()\n",
    "for row in rows[1:]:\n",
    "    rowThemes = row[7].split()\n",
    "    row.append(rowThemes)\n",
    "    row.append(len(rowThemes))\n",
    "    for theme in rowThemes:\n",
    "        themes.add(theme)\n",
    "\n",
    "print(\"-\"*32,\"Themen\", \"-\"*32, \"\\n\",themes)\n",
    "print(\"Anzahl der Themen: \",len(themes))\n",
    "print(\"-\"*70)"
   ]
  },
  {
   "cell_type": "code",
   "execution_count": 24,
   "metadata": {},
   "outputs": [
    {
     "name": "stdout",
     "output_type": "stream",
     "text": [
      "[91530, 41179, 59512, 82626, 80176, 74783, 16884, 21488, 58349, 2771]\n",
      "ID:vBaxg      Themes:                                                                                           Rating:1737                          \n",
      "ID:Pnte5      Themes:                                                                                           Rating:1732                          \n",
      "ID:bE19f      Themes:                                                                                           Rating:1741                          \n",
      "ID:pf2Yt      Themes:                                                                                           Rating:1823                          \n",
      "ID:o6S5z      Themes:                                                                                           Rating:1728                          \n",
      "ID:klvGH      Themes:                                                                                           Rating:1832                          \n",
      "ID:ASLys      Themes:Kings_Indian_Defense Kings_Indian_Defense_Normal_Variation                                 Rating:1738                          \n",
      "ID:DLSLJ      Themes:                                                                                           Rating:1747                          \n",
      "ID:aVzfG      Themes:                                                                                           Rating:1766                          \n",
      "ID:1gsKl      Themes:                                                                                           Rating:1874                          \n"
     ]
    }
   ],
   "source": [
    "import random\n",
    "\n",
    "def getInitialPuzzles(rating: int, count: int):\n",
    "    initialPuzzles = []\n",
    "    possiblePuzzles = []\n",
    "    for row in rows[1:]:\n",
    "        if (int(row[3]) > rating -80 and int(row[3]) < rating +80):\n",
    "            possiblePuzzles.append(row)\n",
    "            \n",
    "\n",
    "    puzzleIDs = random.sample(range(0,len(possiblePuzzles)-1), count)\n",
    "    print(puzzleIDs)\n",
    "    for id in puzzleIDs:\n",
    "        initialPuzzles.append(possiblePuzzles[id])\n",
    "    \n",
    "    return initialPuzzles\n",
    "\n",
    "\n",
    "\n",
    "initialPuzzles = getInitialPuzzles(1800, 10)\n",
    "for puzzle in initialPuzzles:\n",
    "    print(f\"ID:{puzzle[0]:<10} Themes:{puzzle[9]:<90} Rating:{puzzle[3]:<30}\")\n"
   ]
  }
 ],
 "metadata": {
  "kernelspec": {
   "display_name": "Python 3",
   "language": "python",
   "name": "python3"
  },
  "language_info": {
   "codemirror_mode": {
    "name": "ipython",
    "version": 3
   },
   "file_extension": ".py",
   "mimetype": "text/x-python",
   "name": "python",
   "nbconvert_exporter": "python",
   "pygments_lexer": "ipython3",
   "version": "3.11.8"
  }
 },
 "nbformat": 4,
 "nbformat_minor": 2
}
