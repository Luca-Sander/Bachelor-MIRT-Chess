{
 "cells": [
  {
   "cell_type": "code",
   "execution_count": 1,
   "metadata": {},
   "outputs": [],
   "source": [
    "import csv\n",
    "import chess\n",
    "rows = []\n",
    "with open('lichess_db_puzzle.csv', newline='') as csvfile:\n",
    "    spamreader = csv.reader(csvfile, delimiter=',', quotechar='|')\n",
    "    for row in spamreader:\n",
    "        rows.append(row)\n",
    "\n",
    "#row[0] = PuzzleID\n",
    "#row[1] = FEN\n",
    "#row[2] = Moves\n",
    "#row[3] = Rating\n",
    "#row[4] = RatingDeviation\n",
    "#row[5] = Popularity\n",
    "#row[6] = NbPlayes\n",
    "#row[7] = Themes\n",
    "#row[8] = URL\n",
    "#row[9] = OpeningTags\n",
    "#row[10] = GoodRowThemes\n",
    "#row[11] = CountGoodRowThemes\n",
    "header = rows[0]\n",
    "rows.remove(rows[0])\n",
    "#print(f\"{header[1]:<70}{header[2]:<40}{header[3]:<15}{header[5]:<15}{header[6]:<15}{header[7]:<30}\")\n",
    "#for row in rows:\n",
    "#    print(f\"{row[1]:<70}{row[2]:<40}{row[3]:<15}{row[5]:<15}{row[6]:<15}{row[7]:<30}\")\n",
    "\n",
    "\n"
   ]
  },
  {
   "cell_type": "code",
   "execution_count": 2,
   "metadata": {},
   "outputs": [
    {
     "name": "stdout",
     "output_type": "stream",
     "text": [
      "number of puzzles:  1088967\n"
     ]
    }
   ],
   "source": [
    "final = []\n",
    "for row in rows[1:]:\n",
    "    if not(int(row[5]) < 70 or int(row[6]) < 1000): #int(row[3]) < 50 or int(row[3]) > 4000\n",
    "        final.append(row)\n",
    "print(\"number of puzzles: \",len(final))\n",
    "    "
   ]
  },
  {
   "cell_type": "code",
   "execution_count": 3,
   "metadata": {},
   "outputs": [
    {
     "name": "stdout",
     "output_type": "stream",
     "text": [
      "number of puzzles:  913536\n"
     ]
    }
   ],
   "source": [
    "final2 = []\n",
    "for row in final:\n",
    "    if not(\"superGM\" in row[7] or \"master\" in row[7] or \"arabianMate\" in row[7] or \"bodenMate\" in row[7] or \"doubleBishopMate\" in row[7] or \"hookMate\" in row[7] or \"oneMove\" in row[7] or \"quietMove\" in row[7] or \"underPromotion\" in row[7] or \"zugzwang\" in row[7]):\n",
    "        final2.append(row)\n",
    "\n",
    "print(\"number of puzzles: \",len(final2))"
   ]
  },
  {
   "cell_type": "code",
   "execution_count": 4,
   "metadata": {},
   "outputs": [
    {
     "name": "stdout",
     "output_type": "stream",
     "text": [
      "{'mateIn3', 'advantage', 'advancedPawn', 'endgame', 'skewer', 'doubleCheck', 'middlegame', 'promotion', 'clearance', 'queensideAttack', 'xRayAttack', 'Bishop', 'intermezzo', 'mateIn5', 'exposedKing', 'kingsideAttack', 'opening', 'discoveredAttack', 'defensiveMove', 'sacrifice', 'fork', 'Rook', 'enPassant', 'castling', 'capturingDefender', 'pin', 'attraction', 'trappedPiece', 'Pawn', 'deflection', 'Knight', 'hangingPiece', 'interference', 'crushing', 'Queen', 'King', 'mateIn4', 'mateIn2'}\n",
      "38\n"
     ]
    }
   ],
   "source": [
    "piece_names = {\n",
    "    'P': 'Pawn',\n",
    "    'N': 'Knight',\n",
    "    'B': 'Bishop',\n",
    "    'R': 'Rook',\n",
    "    'Q': 'Queen',\n",
    "    'K': 'King'\n",
    "}\n",
    "themes = set()\n",
    "for row in final2:\n",
    "    moves = row[2].split()\n",
    "    board = chess.Board(row[1])\n",
    "    used_pieces = set()\n",
    "    for i in range(len(moves)):\n",
    "        move = chess.Move.from_uci(moves[i])\n",
    "        if i % 2 == 1:  # Check if the index is odd (every second move)\n",
    "            piece = board.piece_at(move.from_square).symbol().upper()\n",
    "            if piece not in used_pieces:  # Check if the piece is new\n",
    "                used_pieces.add(piece)  # Add new piece to the set\n",
    "                row[7] += \" \" + piece_names.get(piece, \"Unknown\")\n",
    "        board.push(move)\n",
    "    rowThemes = row[7].split()\n",
    "    goodRowThemes = []\n",
    "    badThemes = ['short','attackingF2F7','knightEndgame', 'pawnEndgame','mate','bishopEndgame','dovetailMate','queenEndgame','backRankMate','anastasiaMate','rookEndgame','veryLong','smotheredMate','long','queenRookEndgame']\n",
    "    for theme in rowThemes:\n",
    "        if (theme not in badThemes):\n",
    "            themes.add(theme)\n",
    "            goodRowThemes.append(theme)\n",
    "    row.append(goodRowThemes)\n",
    "    row.append(len(goodRowThemes))\n",
    "\n",
    "print(themes)\n",
    "print(len(themes))\n",
    "  "
   ]
  },
  {
   "cell_type": "code",
   "execution_count": 5,
   "metadata": {},
   "outputs": [],
   "source": [
    "#Get New CSV File with all important Puzzles and the important Themes filtered out\n",
    "header.append('GoodRowThemes')\n",
    "header.append('CountGoodRowThemes')\n",
    "final2.insert(0, header)\n",
    "with open('ImportantPuzzles.csv', 'w', newline='') as file:\n",
    "    writer = csv.writer(file)\n",
    "\n",
    "    # Write the data\n",
    "    writer.writerows(final2)"
   ]
  },
  {
   "cell_type": "code",
   "execution_count": 6,
   "metadata": {},
   "outputs": [
    {
     "name": "stdout",
     "output_type": "stream",
     "text": [
      "Anzahl Count 15 Puzzles: 341 Rating:  2000\n"
     ]
    }
   ],
   "source": [
    "import random\n",
    "import xlsxwriter\n",
    "import numpy as np\n",
    "\n",
    "def getPossiblePuzzles(rating: int):\n",
    "    possiblePuzzles = []\n",
    "    for row in final2[1:]:\n",
    "        if (int(row[3]) > rating -80 and int(row[3]) < rating +80):\n",
    "            possiblePuzzles.append(row)\n",
    "    \n",
    "    return possiblePuzzles\n",
    "\n",
    "def findLessThanX(selectedPuzzles2, timesToOccur):\n",
    "    theme_count = {} #directory key-value pairs\n",
    "\n",
    "    # Count the occurrences of each theme\n",
    "    for puzzle in selectedPuzzles2:\n",
    "        for theme in puzzle[10]:\n",
    "            if theme in theme_count:\n",
    "                theme_count[theme] += 1 #add 1 to count if already has a counter\n",
    "            else:\n",
    "                theme_count[theme] = 1 #add a counter and set to 1\n",
    "    lessThanXCount = []\n",
    "    for theme in themes:\n",
    "        if(theme not in theme_count or theme_count[theme] < timesToOccur):\n",
    "            lessThanXCount.append(theme)\n",
    "    return lessThanXCount, theme_count\n",
    "\n",
    "def ensure_themes_appear_X_times(initialPuzzles2, timesToOccur):\n",
    "\n",
    "    lessThanX, theme_count = findLessThanX(initialPuzzles2, timesToOccur)\n",
    "\n",
    "    # Add puzzles to the list, focusing on underrepresented themes\n",
    "    while (len(lessThanX) > 0):\n",
    "        randomID = random.randint(0,len(possiblePuzzles)-1)\n",
    "        puzzle = possiblePuzzles[randomID]\n",
    "        if (puzzle not in initialPuzzles2):\n",
    "            for puzzleTheme in puzzle[10]:\n",
    "                if puzzleTheme in lessThanX:\n",
    "                    for puzzleTheme2 in puzzle[10]:\n",
    "                        if theme in theme_count:\n",
    "                            theme_count[theme] += 1 #add 1 to count if already has a counter\n",
    "                        else:\n",
    "                            theme_count[theme] = 1 #add a counter and set to 1\n",
    "                    initialPuzzles2.append(puzzle)\n",
    "                    lessThanX, theme_count = findLessThanX(initialPuzzles2, timesToOccur)\n",
    "                    break\n",
    "\n",
    "\n",
    "    return initialPuzzles2\n",
    "\n",
    "def write_to_excel(initialIDs, filename):\n",
    "    workbook = xlsxwriter.Workbook(filename)\n",
    "    worksheet = workbook.add_worksheet()\n",
    "\n",
    "    # Write the data\n",
    "    for row_num, row_data in enumerate(initialIDs):\n",
    "        for col_num, cell_data in enumerate(row_data):\n",
    "            worksheet.write(row_num, col_num, cell_data)\n",
    "\n",
    "    workbook.close()\n",
    "\n",
    "for i in [2000]:  \n",
    "\n",
    "    possiblePuzzles = getPossiblePuzzles(i)\n",
    "    initialPuzzles = []\n",
    "    timesToOccur = 15\n",
    "    countXInitialPuzzles = ensure_themes_appear_X_times(initialPuzzles, timesToOccur)\n",
    "\n",
    "    print(\"Anzahl Count\", timesToOccur, \"Puzzles:\",len(countXInitialPuzzles), \"Rating: \", i)\n",
    "\n",
    "    randomShuffling = np.random.choice(range(0, len(countXInitialPuzzles)), size=len(countXInitialPuzzles), replace=False)\n",
    "\n",
    "    countXInitialPuzzlesShuffled = [countXInitialPuzzles[i] for i in randomShuffling]\n",
    "\n",
    "    initialIDs = []\n",
    "    for puzzle in countXInitialPuzzlesShuffled:\n",
    "        initialIDs.append ([\"=HYPERLINK(\\\"https://lichess.org/training/\" + puzzle[0] + \"\\\")\", \"\"])\n",
    "\n",
    "    #Get New CSV File with all initial Puzzles\n",
    "    initialHeader = [\"PuzzleLink\",\"Richtig(1) oder Falsch(0)\"]\n",
    "    initialIDs.insert(0, initialHeader)\n",
    "\n",
    "    countXInitialPuzzlesShuffled.insert(0, header)\n",
    "    playerPuzzles = 'InitialPuzzles' + str(i) + '.csv'\n",
    "    with open(playerPuzzles, 'w', newline='') as file:\n",
    "        writer = csv.writer(file)\n",
    "\n",
    "        # Write the data\n",
    "        writer.writerows(countXInitialPuzzlesShuffled)\n",
    "\n",
    "    playerIDs = 'InitialIDs' + str(i) + '.xlsx'\n",
    "    write_to_excel(initialIDs, playerIDs)\n"
   ]
  },
  {
   "cell_type": "code",
   "execution_count": 7,
   "metadata": {},
   "outputs": [
    {
     "name": "stdout",
     "output_type": "stream",
     "text": [
      "3244\n",
      "399\n"
     ]
    }
   ],
   "source": [
    "ratings = []\n",
    "for i in range(1, len(final2)):\n",
    "    ratings.append(int(final2[i][3]))\n",
    "\n",
    "print(max(ratings))\n",
    "print(min(ratings))"
   ]
  }
 ],
 "metadata": {
  "kernelspec": {
   "display_name": "Python 3",
   "language": "python",
   "name": "python3"
  },
  "language_info": {
   "codemirror_mode": {
    "name": "ipython",
    "version": 3
   },
   "file_extension": ".py",
   "mimetype": "text/x-python",
   "name": "python",
   "nbconvert_exporter": "python",
   "pygments_lexer": "ipython3",
   "version": "3.11.8"
  }
 },
 "nbformat": 4,
 "nbformat_minor": 2
}
